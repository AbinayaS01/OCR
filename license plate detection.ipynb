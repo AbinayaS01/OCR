{
 "cells": [
  {
   "cell_type": "code",
   "execution_count": 1,
   "metadata": {},
   "outputs": [],
   "source": [
    "import cv2\n",
    "import imutils\n",
    "import pytesseract"
   ]
  },
  {
   "cell_type": "code",
   "execution_count": 2,
   "metadata": {},
   "outputs": [],
   "source": [
    "image = cv2.imread(\"license plate.jpg\")"
   ]
  },
  {
   "cell_type": "code",
   "execution_count": 3,
   "metadata": {},
   "outputs": [],
   "source": [
    "image = imutils.resize(image,width=300)\n",
    "# cv2.imshow(\"Original image\",image)\n",
    "# cv2.waitKey(0)"
   ]
  },
  {
   "cell_type": "code",
   "execution_count": 4,
   "metadata": {},
   "outputs": [],
   "source": [
    "gray_image = cv2.cvtColor(image, cv2.COLOR_BGR2GRAY)\n",
    "# cv2.imshow(\"greyed image\", gray_image)\n",
    "# cv2.waitKey(0)"
   ]
  },
  {
   "cell_type": "code",
   "execution_count": 5,
   "metadata": {},
   "outputs": [],
   "source": [
    "gray_image = cv2.bilateralFilter(gray_image,11,17,17)\n",
    "# cv2.imshow(\"smoothened image\",gray_image)\n",
    "# cv2.waitKey(0)"
   ]
  },
  {
   "cell_type": "code",
   "execution_count": 6,
   "metadata": {},
   "outputs": [],
   "source": [
    "edged = cv2.Canny(gray_image,30,200)\n",
    "# cv2.imshow(\"smoothened image\",gray_image)\n",
    "# cv2.waitKey(0)"
   ]
  },
  {
   "cell_type": "code",
   "execution_count": 7,
   "metadata": {},
   "outputs": [],
   "source": [
    "cnts, new = cv2.findContours(edged.copy(),cv2.RETR_LIST,cv2.CHAIN_APPROX_SIMPLE)"
   ]
  },
  {
   "cell_type": "code",
   "execution_count": 8,
   "metadata": {},
   "outputs": [
    {
     "data": {
      "text/plain": [
       "array([[[193, 220, 234],\n",
       "        [193, 220, 234],\n",
       "        [193, 220, 234],\n",
       "        ...,\n",
       "        [  0, 255,   0],\n",
       "        [  0, 255,   0],\n",
       "        [  0, 255,   0]],\n",
       "\n",
       "       [[195, 222, 236],\n",
       "        [195, 222, 236],\n",
       "        [195, 222, 236],\n",
       "        ...,\n",
       "        [  0, 255,   0],\n",
       "        [  0, 255,   0],\n",
       "        [  0, 255,   0]],\n",
       "\n",
       "       [[191, 218, 232],\n",
       "        [191, 218, 232],\n",
       "        [191, 218, 232],\n",
       "        ...,\n",
       "        [  0, 255,   0],\n",
       "        [  0, 255,   0],\n",
       "        [  0, 255,   0]],\n",
       "\n",
       "       ...,\n",
       "\n",
       "       [[  0, 255,   0],\n",
       "        [  0, 255,   0],\n",
       "        [  0, 255,   0],\n",
       "        ...,\n",
       "        [ 21,  23,  29],\n",
       "        [ 20,  23,  29],\n",
       "        [ 20,  23,  29]],\n",
       "\n",
       "       [[  0, 255,   0],\n",
       "        [  0, 255,   0],\n",
       "        [  0, 255,   0],\n",
       "        ...,\n",
       "        [ 23,  24,  30],\n",
       "        [ 22,  25,  30],\n",
       "        [ 22,  25,  30]],\n",
       "\n",
       "       [[  0, 255,   0],\n",
       "        [  0, 255,   0],\n",
       "        [  0, 255,   0],\n",
       "        ...,\n",
       "        [ 24,  24,  30],\n",
       "        [ 24,  24,  30],\n",
       "        [ 24,  24,  30]]], dtype=uint8)"
      ]
     },
     "execution_count": 8,
     "metadata": {},
     "output_type": "execute_result"
    }
   ],
   "source": [
    "image1=image.copy()\n",
    "cv2.drawContours(image1,cnts,-1,(0,255,0),3)"
   ]
  },
  {
   "cell_type": "code",
   "execution_count": 9,
   "metadata": {},
   "outputs": [],
   "source": [
    "# cv2.imshow(\"contours\",image1)\n",
    "# cv2.waitKey(0)"
   ]
  },
  {
   "cell_type": "code",
   "execution_count": 10,
   "metadata": {},
   "outputs": [
    {
     "data": {
      "text/plain": [
       "array([[[193, 220, 234],\n",
       "        [193, 220, 234],\n",
       "        [193, 220, 234],\n",
       "        ...,\n",
       "        [181, 168, 134],\n",
       "        [213, 196, 163],\n",
       "        [237, 220, 187]],\n",
       "\n",
       "       [[195, 222, 236],\n",
       "        [195, 222, 236],\n",
       "        [195, 222, 236],\n",
       "        ...,\n",
       "        [233, 219, 186],\n",
       "        [238, 221, 188],\n",
       "        [238, 221, 188]],\n",
       "\n",
       "       [[191, 218, 232],\n",
       "        [191, 218, 232],\n",
       "        [191, 218, 232],\n",
       "        ...,\n",
       "        [247, 233, 200],\n",
       "        [235, 217, 184],\n",
       "        [220, 202, 169]],\n",
       "\n",
       "       ...,\n",
       "\n",
       "       [[ 99, 104, 107],\n",
       "        [ 96, 102, 105],\n",
       "        [107, 113, 116],\n",
       "        ...,\n",
       "        [ 21,  23,  29],\n",
       "        [ 20,  23,  29],\n",
       "        [ 20,  23,  29]],\n",
       "\n",
       "       [[ 74,  82,  90],\n",
       "        [ 75,  85,  92],\n",
       "        [ 81,  90,  97],\n",
       "        ...,\n",
       "        [ 23,  24,  30],\n",
       "        [ 22,  25,  30],\n",
       "        [ 22,  25,  30]],\n",
       "\n",
       "       [[ 37,  48,  56],\n",
       "        [ 40,  51,  59],\n",
       "        [ 45,  56,  64],\n",
       "        ...,\n",
       "        [ 24,  24,  30],\n",
       "        [ 24,  24,  30],\n",
       "        [ 24,  24,  30]]], dtype=uint8)"
      ]
     },
     "execution_count": 10,
     "metadata": {},
     "output_type": "execute_result"
    }
   ],
   "source": [
    "cnts = sorted(cnts,key=cv2.contourArea,reverse=True)[:30]\n",
    "screenCnt=None\n",
    "image2=image.copy()\n",
    "cv2.drawContours(image2,cnts,-1,(0,255,0),3)\n",
    "# cv2.imshow(\"Top 30 contours\", image2)\n",
    "# cv2.waitKey(0)"
   ]
  },
  {
   "cell_type": "code",
   "execution_count": 11,
   "metadata": {},
   "outputs": [],
   "source": [
    "i =7 \n",
    "for c in cnts:\n",
    "    perimeter = cv2.arcLength(c, True)\n",
    "    approx = cv2.approxPolyDP(c,0.018*perimeter,True)\n",
    "    if len(approx)==4:\n",
    "        screenCnt=approx\n",
    "        x,y,w,h=cv2.boundingRect(c)\n",
    "        new_img= image[y:y+h,x:x+w]\n",
    "        cv2.imwrite('./'+str(i)+'.png',new_img)\n",
    "        i+=1\n",
    "        break\n"
   ]
  },
  {
   "cell_type": "code",
   "execution_count": 12,
   "metadata": {},
   "outputs": [
    {
     "data": {
      "text/plain": [
       "array([[[193, 220, 234],\n",
       "        [193, 220, 234],\n",
       "        [193, 220, 234],\n",
       "        ...,\n",
       "        [181, 168, 134],\n",
       "        [213, 196, 163],\n",
       "        [237, 220, 187]],\n",
       "\n",
       "       [[195, 222, 236],\n",
       "        [195, 222, 236],\n",
       "        [195, 222, 236],\n",
       "        ...,\n",
       "        [233, 219, 186],\n",
       "        [238, 221, 188],\n",
       "        [238, 221, 188]],\n",
       "\n",
       "       [[191, 218, 232],\n",
       "        [191, 218, 232],\n",
       "        [191, 218, 232],\n",
       "        ...,\n",
       "        [247, 233, 200],\n",
       "        [235, 217, 184],\n",
       "        [220, 202, 169]],\n",
       "\n",
       "       ...,\n",
       "\n",
       "       [[ 99, 104, 107],\n",
       "        [ 96, 102, 105],\n",
       "        [107, 113, 116],\n",
       "        ...,\n",
       "        [ 21,  23,  29],\n",
       "        [ 20,  23,  29],\n",
       "        [ 20,  23,  29]],\n",
       "\n",
       "       [[ 74,  82,  90],\n",
       "        [ 75,  85,  92],\n",
       "        [ 81,  90,  97],\n",
       "        ...,\n",
       "        [ 23,  24,  30],\n",
       "        [ 22,  25,  30],\n",
       "        [ 22,  25,  30]],\n",
       "\n",
       "       [[ 37,  48,  56],\n",
       "        [ 40,  51,  59],\n",
       "        [ 45,  56,  64],\n",
       "        ...,\n",
       "        [ 24,  24,  30],\n",
       "        [ 24,  24,  30],\n",
       "        [ 24,  24,  30]]], dtype=uint8)"
      ]
     },
     "execution_count": 12,
     "metadata": {},
     "output_type": "execute_result"
    }
   ],
   "source": [
    "cv2.drawContours(image,[screenCnt],-1,(0,255,0),3)\n",
    "# cv2.imshow(\"image with detected license plate\", image)\n",
    "# cv2.waitKey(0)"
   ]
  },
  {
   "cell_type": "code",
   "execution_count": 13,
   "metadata": {},
   "outputs": [
    {
     "name": "stderr",
     "output_type": "stream",
     "text": [
      "qt.qpa.plugin: Could not find the Qt platform plugin \"wayland\" in \"/home/abinaya/.local/lib/python3.12/site-packages/cv2/qt/plugins\"\n"
     ]
    },
    {
     "name": "stdout",
     "output_type": "stream",
     "text": [
      "Number Plate is :  MH12DE1433\n",
      "\n"
     ]
    }
   ],
   "source": [
    "Cropped_loc = './7.png'\n",
    "cv2.imshow(\"cropped\",cv2.imread(Cropped_loc))\n",
    "plate = pytesseract.image_to_string(Cropped_loc,lang=\"eng\")\n",
    "print(\"Number Plate is : \",plate)\n",
    "cv2.waitKey(0)\n",
    "cv2.destroyAllWindows()"
   ]
  },
  {
   "cell_type": "code",
   "execution_count": null,
   "metadata": {},
   "outputs": [],
   "source": []
  }
 ],
 "metadata": {
  "kernelspec": {
   "display_name": "Python 3",
   "language": "python",
   "name": "python3"
  },
  "language_info": {
   "codemirror_mode": {
    "name": "ipython",
    "version": 3
   },
   "file_extension": ".py",
   "mimetype": "text/x-python",
   "name": "python",
   "nbconvert_exporter": "python",
   "pygments_lexer": "ipython3",
   "version": "3.12.3"
  }
 },
 "nbformat": 4,
 "nbformat_minor": 2
}
